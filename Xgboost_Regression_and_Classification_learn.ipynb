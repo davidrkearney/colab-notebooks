{
  "nbformat": 4,
  "nbformat_minor": 0,
  "metadata": {
    "colab": {
      "name": "Xgboost Regression and Classification-learn.ipynb",
      "provenance": [],
      "collapsed_sections": [],
      "include_colab_link": true
    },
    "kernelspec": {
      "name": "python3",
      "display_name": "Python 3"
    }
  },
  "cells": [
    {
      "cell_type": "markdown",
      "metadata": {
        "id": "view-in-github",
        "colab_type": "text"
      },
      "source": [
        "<a href=\"https://colab.research.google.com/github/davidrkearney/colab-notebooks/blob/main/Xgboost_Regression_and_Classification_learn.ipynb\" target=\"_parent\"><img src=\"https://colab.research.google.com/assets/colab-badge.svg\" alt=\"Open In Colab\"/></a>"
      ]
    },
    {
      "cell_type": "markdown",
      "metadata": {
        "id": "X7a9Oofnm0N2"
      },
      "source": [
        "# Xgboost Regression and Classification examples diabetes and heart disease data.\n",
        "\n"
      ]
    },
    {
      "cell_type": "markdown",
      "metadata": {
        "id": "VZA9s-NMmxsa"
      },
      "source": [
        "Credit: code from https://towardsdatascience.com/getting-started-with-xgboost-in-scikit-learn-f69f5f470a97"
      ]
    },
    {
      "cell_type": "markdown",
      "metadata": {
        "id": "jlg45mpWVzPd"
      },
      "source": [
        "# Regression"
      ]
    },
    {
      "cell_type": "code",
      "metadata": {
        "id": "Cxkrq24jJzxt",
        "outputId": "fa29a6d1-6432-4bfd-a221-f38e636b0eb6",
        "colab": {
          "base_uri": "https://localhost:8080/"
        }
      },
      "source": [
        "# import scikit-learn datasets\n",
        "from sklearn import datasets\n",
        "\n",
        "# load diabetes dataset with X, y defined\n",
        "X,y = datasets.load_diabetes(return_X_y=True)\n",
        "\n",
        "# import XGBoost regressor\n",
        "from xgboost import XGBRegressor\n",
        "\n",
        "# import cross_val_score for cross-validation\n",
        "from sklearn.model_selection import cross_val_score\n",
        "\n",
        "# score XGBRegressor (ojbective='reg:squarederror' may silence a warning)\n",
        "scores = cross_val_score(XGBRegressor(objective='reg:squarederror'), X, y, scoring='neg_mean_squared_error')\n",
        "\n",
        "# get root mean squared error\n",
        "(-scores)**0.5"
      ],
      "execution_count": 1,
      "outputs": [
        {
          "output_type": "execute_result",
          "data": {
            "text/plain": [
              "array([56.04057166, 56.14039793, 60.3213523 , 59.67532995, 60.7722925 ])"
            ]
          },
          "metadata": {
            "tags": []
          },
          "execution_count": 1
        }
      ]
    },
    {
      "cell_type": "markdown",
      "metadata": {
        "id": "h0zA43tzV39R"
      },
      "source": [
        "# Classification"
      ]
    },
    {
      "cell_type": "markdown",
      "metadata": {
        "id": "CslXXxu4WhQB"
      },
      "source": [
        ""
      ]
    },
    {
      "cell_type": "code",
      "metadata": {
        "id": "Dm8CQltMJ30h",
        "outputId": "b9759099-c09a-45ad-9f9e-ed89a8cd0f07",
        "colab": {
          "base_uri": "https://localhost:8080/"
        }
      },
      "source": [
        "# access heart disease dataset\n",
        "url = 'https://media.githubusercontent.com/media/PacktPublishing/Hands-On-Gradient-Boosting-with-XGBoost-and-Scikit-learn/master/Chapter02/heart_disease.csv'\n",
        "\n",
        "# import pandas\n",
        "import pandas as pd\n",
        "\n",
        "# read csv file as dataframe df\n",
        "df = pd.read_csv(url)\n",
        "\n",
        "# choose all columns except the last for X\n",
        "X = df.iloc[:, :-1]\n",
        "\n",
        "# choose the last column for y\n",
        "y = df.iloc[:, -1]\n",
        "\n",
        "# import XGBoost classifier\n",
        "from xgboost import XGBClassifier\n",
        "\n",
        "# import cross_val_score for cross-validation\n",
        "from sklearn.model_selection import cross_val_score\n",
        "\n",
        "# score XGBClassifier\n",
        "cross_val_score(XGBClassifier(), X, y)"
      ],
      "execution_count": 2,
      "outputs": [
        {
          "output_type": "execute_result",
          "data": {
            "text/plain": [
              "array([0.85245902, 0.85245902, 0.7704918 , 0.78333333, 0.76666667])"
            ]
          },
          "metadata": {
            "tags": []
          },
          "execution_count": 2
        }
      ]
    },
    {
      "cell_type": "code",
      "metadata": {
        "id": "kgqj3RAqmu2c"
      },
      "source": [
        ""
      ],
      "execution_count": null,
      "outputs": []
    }
  ]
}